{
 "cells": [
  {
   "cell_type": "code",
   "execution_count": 1,
   "metadata": {},
   "outputs": [],
   "source": [
    "#Import dependencies\n",
    "import pandas as pd\n",
    "import os"
   ]
  },
  {
   "cell_type": "code",
   "execution_count": 2,
   "metadata": {},
   "outputs": [],
   "source": [
    "#Read raw population date into dataframe\n",
    "arrests_csv = os.path.join(\"Resources\",\"arrests-by-state-2017.csv\")\n",
    "arrests_raw = pd.read_csv(arrests_csv)"
   ]
  },
  {
   "cell_type": "code",
   "execution_count": 3,
   "metadata": {},
   "outputs": [
    {
     "data": {
      "text/html": [
       "<div>\n",
       "<style scoped>\n",
       "    .dataframe tbody tr th:only-of-type {\n",
       "        vertical-align: middle;\n",
       "    }\n",
       "\n",
       "    .dataframe tbody tr th {\n",
       "        vertical-align: top;\n",
       "    }\n",
       "\n",
       "    .dataframe thead th {\n",
       "        text-align: right;\n",
       "    }\n",
       "</style>\n",
       "<table border=\"1\" class=\"dataframe\">\n",
       "  <thead>\n",
       "    <tr style=\"text-align: right;\">\n",
       "      <th></th>\n",
       "      <th>State</th>\n",
       "      <th>Age Range</th>\n",
       "      <th>Total\\nall \\nclasses1</th>\n",
       "      <th>Violent\\ncrime2</th>\n",
       "      <th>Property\\ncrime2</th>\n",
       "      <th>Murder and\\nnonnegligent\\nmanslaughter</th>\n",
       "      <th>Rape3</th>\n",
       "      <th>Robbery</th>\n",
       "      <th>Aggravated\\nassault</th>\n",
       "      <th>Burglary</th>\n",
       "      <th>...</th>\n",
       "      <th>Driving\\nunder the\\ninfluence</th>\n",
       "      <th>Liquor\\nlaws</th>\n",
       "      <th>Drunkenness4</th>\n",
       "      <th>Disorderly\\nconduct</th>\n",
       "      <th>Vagrancy</th>\n",
       "      <th>All other\\noffenses\\n(except\\ntraffic)</th>\n",
       "      <th>Suspicion</th>\n",
       "      <th>Curfew\\nand\\nloitering\\nlaw\\nviolations</th>\n",
       "      <th>Number\\nof\\nagencies</th>\n",
       "      <th>2017\\nestimated \\npopulation</th>\n",
       "    </tr>\n",
       "  </thead>\n",
       "  <tbody>\n",
       "    <tr>\n",
       "      <td>0</td>\n",
       "      <td>ALABAMA</td>\n",
       "      <td>Under 18</td>\n",
       "      <td>4707</td>\n",
       "      <td>365</td>\n",
       "      <td>1264</td>\n",
       "      <td>18</td>\n",
       "      <td>34</td>\n",
       "      <td>116</td>\n",
       "      <td>197</td>\n",
       "      <td>323</td>\n",
       "      <td>...</td>\n",
       "      <td>42</td>\n",
       "      <td>212</td>\n",
       "      <td>34</td>\n",
       "      <td>338</td>\n",
       "      <td>0</td>\n",
       "      <td>1053</td>\n",
       "      <td>0</td>\n",
       "      <td>0</td>\n",
       "      <td>NaN</td>\n",
       "      <td>NaN</td>\n",
       "    </tr>\n",
       "    <tr>\n",
       "      <td>1</td>\n",
       "      <td>ALABAMA</td>\n",
       "      <td>Total all ages</td>\n",
       "      <td>153285</td>\n",
       "      <td>6005</td>\n",
       "      <td>18366</td>\n",
       "      <td>317</td>\n",
       "      <td>344</td>\n",
       "      <td>1140</td>\n",
       "      <td>4204</td>\n",
       "      <td>3223</td>\n",
       "      <td>...</td>\n",
       "      <td>7194</td>\n",
       "      <td>2064</td>\n",
       "      <td>6165</td>\n",
       "      <td>2018</td>\n",
       "      <td>56</td>\n",
       "      <td>71853</td>\n",
       "      <td>0</td>\n",
       "      <td>0</td>\n",
       "      <td>223.0</td>\n",
       "      <td>3737635.0</td>\n",
       "    </tr>\n",
       "    <tr>\n",
       "      <td>2</td>\n",
       "      <td>ALASKA</td>\n",
       "      <td>Under 18</td>\n",
       "      <td>1570</td>\n",
       "      <td>164</td>\n",
       "      <td>459</td>\n",
       "      <td>1</td>\n",
       "      <td>26</td>\n",
       "      <td>20</td>\n",
       "      <td>117</td>\n",
       "      <td>117</td>\n",
       "      <td>...</td>\n",
       "      <td>23</td>\n",
       "      <td>80</td>\n",
       "      <td>10</td>\n",
       "      <td>14</td>\n",
       "      <td>0</td>\n",
       "      <td>172</td>\n",
       "      <td>0</td>\n",
       "      <td>0</td>\n",
       "      <td>NaN</td>\n",
       "      <td>NaN</td>\n",
       "    </tr>\n",
       "    <tr>\n",
       "      <td>3</td>\n",
       "      <td>ALASKA</td>\n",
       "      <td>Total all ages</td>\n",
       "      <td>29152</td>\n",
       "      <td>2374</td>\n",
       "      <td>3695</td>\n",
       "      <td>46</td>\n",
       "      <td>126</td>\n",
       "      <td>289</td>\n",
       "      <td>1913</td>\n",
       "      <td>623</td>\n",
       "      <td>...</td>\n",
       "      <td>3102</td>\n",
       "      <td>653</td>\n",
       "      <td>43</td>\n",
       "      <td>757</td>\n",
       "      <td>2</td>\n",
       "      <td>10737</td>\n",
       "      <td>0</td>\n",
       "      <td>0</td>\n",
       "      <td>32.0</td>\n",
       "      <td>736205.0</td>\n",
       "    </tr>\n",
       "    <tr>\n",
       "      <td>4</td>\n",
       "      <td>ARIZONA</td>\n",
       "      <td>Under 18</td>\n",
       "      <td>22613</td>\n",
       "      <td>1228</td>\n",
       "      <td>4528</td>\n",
       "      <td>30</td>\n",
       "      <td>52</td>\n",
       "      <td>450</td>\n",
       "      <td>696</td>\n",
       "      <td>761</td>\n",
       "      <td>...</td>\n",
       "      <td>198</td>\n",
       "      <td>1461</td>\n",
       "      <td>78</td>\n",
       "      <td>1424</td>\n",
       "      <td>57</td>\n",
       "      <td>3062</td>\n",
       "      <td>3</td>\n",
       "      <td>1126</td>\n",
       "      <td>NaN</td>\n",
       "      <td>NaN</td>\n",
       "    </tr>\n",
       "  </tbody>\n",
       "</table>\n",
       "<p>5 rows × 35 columns</p>\n",
       "</div>"
      ],
      "text/plain": [
       "       State       Age Range  Total\\nall \\nclasses1  Violent\\ncrime2  \\\n",
       "0  ALABAMA          Under 18                   4707              365   \n",
       "1  ALABAMA    Total all ages                 153285             6005   \n",
       "2     ALASKA        Under 18                   1570              164   \n",
       "3     ALASKA  Total all ages                  29152             2374   \n",
       "4    ARIZONA        Under 18                  22613             1228   \n",
       "\n",
       "   Property\\ncrime2  Murder and\\nnonnegligent\\nmanslaughter  Rape3  Robbery  \\\n",
       "0              1264                                      18     34      116   \n",
       "1             18366                                     317    344     1140   \n",
       "2               459                                       1     26       20   \n",
       "3              3695                                      46    126      289   \n",
       "4              4528                                      30     52      450   \n",
       "\n",
       "   Aggravated\\nassault  Burglary  ...  Driving\\nunder the\\ninfluence  \\\n",
       "0                  197       323  ...                             42   \n",
       "1                 4204      3223  ...                           7194   \n",
       "2                  117       117  ...                             23   \n",
       "3                 1913       623  ...                           3102   \n",
       "4                  696       761  ...                            198   \n",
       "\n",
       "   Liquor\\nlaws  Drunkenness4  Disorderly\\nconduct  Vagrancy  \\\n",
       "0           212            34                  338         0   \n",
       "1          2064          6165                 2018        56   \n",
       "2            80            10                   14         0   \n",
       "3           653            43                  757         2   \n",
       "4          1461            78                 1424        57   \n",
       "\n",
       "   All other\\noffenses\\n(except\\ntraffic)  Suspicion  \\\n",
       "0                                    1053          0   \n",
       "1                                   71853          0   \n",
       "2                                     172          0   \n",
       "3                                   10737          0   \n",
       "4                                    3062          3   \n",
       "\n",
       "   Curfew\\nand\\nloitering\\nlaw\\nviolations  Number\\nof\\nagencies  \\\n",
       "0                                        0                   NaN   \n",
       "1                                        0                 223.0   \n",
       "2                                        0                   NaN   \n",
       "3                                        0                  32.0   \n",
       "4                                     1126                   NaN   \n",
       "\n",
       "   2017\\nestimated \\npopulation  \n",
       "0                           NaN  \n",
       "1                     3737635.0  \n",
       "2                           NaN  \n",
       "3                      736205.0  \n",
       "4                           NaN  \n",
       "\n",
       "[5 rows x 35 columns]"
      ]
     },
     "execution_count": 3,
     "metadata": {},
     "output_type": "execute_result"
    }
   ],
   "source": [
    "arrests_raw.head()"
   ]
  },
  {
   "cell_type": "code",
   "execution_count": 4,
   "metadata": {},
   "outputs": [],
   "source": [
    "arrests_all_ages = arrests_raw.loc[arrests_raw[\"Age Range\"] == \"Total all ages\", :].reset_index(drop=True)"
   ]
  },
  {
   "cell_type": "code",
   "execution_count": 5,
   "metadata": {},
   "outputs": [],
   "source": [
    "#Choose and rename columns to include in dataframe\n",
    "arrests_2017 = arrests_all_ages[[\"State\", \"Drug \\nabuse\\nviolations\"]]\n",
    "arrests_2017 = arrests_2017.rename(columns={\"Drug \\nabuse\\nviolations\":\"Drug Violations\"})\n",
    "arrests_2017[\"State\"] = arrests_2017[\"State\"].replace({\"ILLINOIS6\": \"ILLINOIS\",\"ALABAMA  \":\"ALABAMA\", \"CALIFORNIA \":\"CALIFORNIA\"})"
   ]
  },
  {
   "cell_type": "code",
   "execution_count": 6,
   "metadata": {},
   "outputs": [
    {
     "data": {
      "text/plain": [
       "1400015"
      ]
     },
     "execution_count": 6,
     "metadata": {},
     "output_type": "execute_result"
    }
   ],
   "source": [
    "#Check total drug arrest count\n",
    "total_drug_arrests = arrests_2017[\"Drug Violations\"].sum()\n",
    "total_drug_arrests"
   ]
  },
  {
   "cell_type": "code",
   "execution_count": 7,
   "metadata": {},
   "outputs": [],
   "source": [
    "state_drug_arrests = pd.DataFrame(arrests_2017)\n",
    "state_drug_arrests.set_index(\"State\",  inplace=True)"
   ]
  },
  {
   "cell_type": "code",
   "execution_count": 8,
   "metadata": {},
   "outputs": [
    {
     "name": "stdout",
     "output_type": "stream",
     "text": [
      "[9174, 3409, 9791, 7656, 61989, 69904, 63306, 1792, 1137]\n"
     ]
    }
   ],
   "source": [
    "# Group by regions\n",
    "region1_states = ([\"CONNECTICUT\", \"MAINE\", \"MASSACHUSETTS\", \"NEW HAMPSHIRE\", \n",
    "                   \"NEW JERSEY\", \"NEW YORK\", \"PENNSYLVANIA\", \"RHODE ISLAND\", \"VERMONT\"])\n",
    "\n",
    "region_1 = []\n",
    "\n",
    "for a in region1_states:\n",
    "    region_1.append(state_drug_arrests.loc[a, \"Drug Violations\"])\n",
    "\n",
    "print(region_1)"
   ]
  },
  {
   "cell_type": "code",
   "execution_count": 9,
   "metadata": {},
   "outputs": [
    {
     "name": "stdout",
     "output_type": "stream",
     "text": [
      "[10915, 26364, 9645, 9594, 33090, 19281, 39979, 843, 5646, 37022, 8900]\n"
     ]
    }
   ],
   "source": [
    "region2_states = ([\"ILLINOIS\", \"INDIANA\", \"IOWA\", \"KANSAS\", \"MICHIGAN\", \"MINNESOTA\", \n",
    "                   \"MISSOURI\", \"NEBRASKA\", \"NORTH DAKOTA\", \"OHIO\", \"SOUTH DAKOTA\"])\n",
    "region_2 = []\n",
    "for b in region2_states:\n",
    "    region_2.append(state_drug_arrests.loc[b, \"Drug Violations\"])\n",
    "print(region_2)"
   ]
  },
  {
   "cell_type": "code",
   "execution_count": 10,
   "metadata": {},
   "outputs": [
    {
     "name": "stdout",
     "output_type": "stream",
     "text": [
      "[11267, 17515, 4015, 237, 124487, 40608, 26397, 25770, 28992, 10268, 25902, 20024, 32266, 47826, 136796]\n"
     ]
    }
   ],
   "source": [
    "region3_states = ([\"ALABAMA\",\"ARKANSAS\", \"DELAWARE\", \"DISTRICT OF COLUMBIA\", \"FLORIDA\",\n",
    "                   \"GEORGIA\", \"KENTUCKY\", \"LOUISIANA\", \"MARYLAND\", \"MISSISSIPPI\",\n",
    "                   \"NORTH CAROLINA\", \"OKLAHOMA\", \"SOUTH CAROLINA\", \"TENNESSEE\", \"TEXAS\"])\n",
    "region_3 = []\n",
    "for c in region3_states:\n",
    "    region_3.append(state_drug_arrests.loc[c, \"Drug Violations\"])\n",
    "print(region_3)"
   ]
  },
  {
   "cell_type": "code",
   "execution_count": 11,
   "metadata": {},
   "outputs": [
    {
     "name": "stdout",
     "output_type": "stream",
     "text": [
      "[1004, 33230, 212025, 16626, 2724, 8432, 2872, 8923, 2377, 15682, 17556]\n"
     ]
    }
   ],
   "source": [
    "region4_states = ([\"ALASKA\", \"ARIZONA\", \"CALIFORNIA\", \"COLORADO\", \"HAWAII\", \"IDAHO\",\n",
    "                   \"MONTANA\", \"NEVADA\", \"NEW MEXICO\", \"OREGON\", \"UTAH\"])\n",
    "region_4 = []\n",
    "for d in region4_states:\n",
    "    region_4.append(state_drug_arrests.loc[d, \"Drug Violations\"])\n",
    "print(region_4)"
   ]
  },
  {
   "cell_type": "code",
   "execution_count": 12,
   "metadata": {},
   "outputs": [
    {
     "data": {
      "text/html": [
       "<div>\n",
       "<style scoped>\n",
       "    .dataframe tbody tr th:only-of-type {\n",
       "        vertical-align: middle;\n",
       "    }\n",
       "\n",
       "    .dataframe tbody tr th {\n",
       "        vertical-align: top;\n",
       "    }\n",
       "\n",
       "    .dataframe thead th {\n",
       "        text-align: right;\n",
       "    }\n",
       "</style>\n",
       "<table border=\"1\" class=\"dataframe\">\n",
       "  <thead>\n",
       "    <tr style=\"text-align: right;\">\n",
       "      <th></th>\n",
       "      <th>Region</th>\n",
       "      <th>2017 Arrests</th>\n",
       "    </tr>\n",
       "  </thead>\n",
       "  <tbody>\n",
       "    <tr>\n",
       "      <td>0</td>\n",
       "      <td>1</td>\n",
       "      <td>228158</td>\n",
       "    </tr>\n",
       "    <tr>\n",
       "      <td>1</td>\n",
       "      <td>2</td>\n",
       "      <td>201279</td>\n",
       "    </tr>\n",
       "    <tr>\n",
       "      <td>2</td>\n",
       "      <td>3</td>\n",
       "      <td>552370</td>\n",
       "    </tr>\n",
       "    <tr>\n",
       "      <td>3</td>\n",
       "      <td>4</td>\n",
       "      <td>321451</td>\n",
       "    </tr>\n",
       "  </tbody>\n",
       "</table>\n",
       "</div>"
      ],
      "text/plain": [
       "   Region  2017 Arrests\n",
       "0       1        228158\n",
       "1       2        201279\n",
       "2       3        552370\n",
       "3       4        321451"
      ]
     },
     "execution_count": 12,
     "metadata": {},
     "output_type": "execute_result"
    }
   ],
   "source": [
    "region_1_total = sum(region_1)\n",
    "region_2_total = sum(region_2)\n",
    "region_3_total = sum(region_3)\n",
    "region_4_total = sum(region_4)\n",
    "\n",
    "region_drug_data = {\"Region\": [1,2,3,4],\n",
    "                    \"2017 Arrests\": [region_1_total,region_2_total,region_3_total,region_4_total]}\n",
    "region_drug_arrests = pd.DataFrame(region_drug_data)\n",
    "region_drug_arrests.head()"
   ]
  },
  {
   "cell_type": "code",
   "execution_count": 13,
   "metadata": {},
   "outputs": [],
   "source": [
    "#Save State Drug Arrests as CSV\n",
    "state_drug_arrests.to_csv(r'Resources/drug-arrests_state.csv')"
   ]
  },
  {
   "cell_type": "code",
   "execution_count": 14,
   "metadata": {},
   "outputs": [],
   "source": [
    "#Save Region Drug Arrests as CSV\n",
    "region_drug_arrests.to_csv(r'Resources/drug-arrests_region.csv')"
   ]
  },
  {
   "cell_type": "code",
   "execution_count": null,
   "metadata": {},
   "outputs": [],
   "source": []
  }
 ],
 "metadata": {
  "kernelspec": {
   "display_name": "Python 3",
   "language": "python",
   "name": "python3"
  },
  "language_info": {
   "codemirror_mode": {
    "name": "ipython",
    "version": 3
   },
   "file_extension": ".py",
   "mimetype": "text/x-python",
   "name": "python",
   "nbconvert_exporter": "python",
   "pygments_lexer": "ipython3",
   "version": "3.6.9"
  }
 },
 "nbformat": 4,
 "nbformat_minor": 2
}
