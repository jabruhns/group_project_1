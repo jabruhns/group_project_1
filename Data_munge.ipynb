{
 "cells": [
  {
   "cell_type": "code",
   "execution_count": null,
   "metadata": {},
   "outputs": [],
   "source": [
    "# Importing dependancies for data munge\n",
    "import pandas as pd\n",
    "import numpy as np\n",
    "import os"
   ]
  },
  {
   "cell_type": "code",
   "execution_count": null,
   "metadata": {},
   "outputs": [],
   "source": [
    "# Importing Dataset\n",
    "df = pd.read_csv(\"Resources/VSRR_Provisional_Drug_Overdose_Death_Counts.csv\")\n",
    "# Isolating 2017 as year used, keeping only relevant data\n",
    "df_year = df.set_index(\"Year\")\n",
    "year_loc = df_year.loc[2017, [\"State\", \"Indicator\", \"Data Value\"]]\n",
    "year_df = pd.DataFrame(year_loc).reset_index()\n",
    "state_group = year_df.groupby(\"State\")\n",
    "state_group.head()"
   ]
  },
  {
   "cell_type": "code",
   "execution_count": null,
   "metadata": {},
   "outputs": [],
   "source": []
  }
 ],
 "metadata": {
  "kernelspec": {
   "display_name": "Python 3",
   "language": "python",
   "name": "python3"
  },
  "language_info": {
   "codemirror_mode": {
    "name": "ipython",
    "version": 3
   },
   "file_extension": ".py",
   "mimetype": "text/x-python",
   "name": "python",
   "nbconvert_exporter": "python",
   "pygments_lexer": "ipython3",
   "version": "3.6.9"
  }
 },
 "nbformat": 4,
 "nbformat_minor": 2
}
